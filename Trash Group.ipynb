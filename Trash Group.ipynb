{
 "cells": [
  {
   "cell_type": "code",
   "execution_count": null,
   "id": "24a22e95",
   "metadata": {},
   "outputs": [],
   "source": [
    "import re\n",
    "import string\n",
    "from shapely.geometry import Point, MultiPolygon, Polygon\n",
    "import pandas as pd\n",
    "import geopandas as gpd\n",
    "import matplotlib.pyplot as plt\n",
    "import folium\n",
    "from folium.plugins import MarkerCluster\n",
    "from folium.plugins import FastMarkerCluster\n",
    "from datetime import datetime"
   ]
  },
  {
   "cell_type": "code",
   "execution_count": null,
   "id": "0ed3945a",
   "metadata": {},
   "outputs": [],
   "source": [
    "trash = pd.read_csv('../trash-haulers-otto/trash_hauler_report.csv')"
   ]
  },
  {
   "cell_type": "code",
   "execution_count": null,
   "id": "179daa70",
   "metadata": {
    "scrolled": true
   },
   "outputs": [],
   "source": [
    "trash.head()"
   ]
  },
  {
   "cell_type": "code",
   "execution_count": null,
   "id": "d362a83d",
   "metadata": {},
   "outputs": [],
   "source": [
    "trash.tail()"
   ]
  },
  {
   "cell_type": "code",
   "execution_count": null,
   "id": "773f2722",
   "metadata": {},
   "outputs": [],
   "source": [
    "trash.shape"
   ]
  },
  {
   "cell_type": "code",
   "execution_count": null,
   "id": "0c7be58c",
   "metadata": {},
   "outputs": [],
   "source": [
    "type(trash)"
   ]
  },
  {
   "cell_type": "code",
   "execution_count": null,
   "id": "0564d81b",
   "metadata": {},
   "outputs": [],
   "source": [
    "trash.dtypes"
   ]
  },
  {
   "cell_type": "code",
   "execution_count": null,
   "id": "47bf5d70",
   "metadata": {},
   "outputs": [],
   "source": [
    "#Your job is to determine the total amount of damages due to missed pickups. Note that not all rows that you have been provided correspond to missed pickups and that you will need to ensure that you are only counting missed pickups.\n",
    "\n",
    "#After determining the total amount of damages, you can look at other questions:"
   ]
  },
  {
   "cell_type": "code",
   "execution_count": null,
   "id": "8e5cd018",
   "metadata": {},
   "outputs": [],
   "source": [
    "trash['Request '].value_counts()"
   ]
  },
  {
   "cell_type": "code",
   "execution_count": null,
   "id": "e293219f",
   "metadata": {},
   "outputs": [],
   "source": [
    "trash.columns"
   ]
  },
  {
   "cell_type": "code",
   "execution_count": null,
   "id": "48cb3095",
   "metadata": {},
   "outputs": [],
   "source": [
    "trash"
   ]
  },
  {
   "cell_type": "code",
   "execution_count": null,
   "id": "3d386f26",
   "metadata": {},
   "outputs": [],
   "source": [
    "ee_miss = trash.loc[~trash['Request '].isin(['Trash - Curbside/Alley Missed Pickup'])]\n",
    "ee_miss"
   ]
  },
  {
   "cell_type": "code",
   "execution_count": null,
   "id": "00a43275",
   "metadata": {},
   "outputs": [],
   "source": [
    "request = trash.loc[trash ['Request '] == \"Trash - Curbside/Alley Missed Pickup\" ]\n",
    "request"
   ]
  },
  {
   "cell_type": "code",
   "execution_count": null,
   "id": "20edcfa6",
   "metadata": {
    "scrolled": true
   },
   "outputs": [],
   "source": [
    "pd.set_option(\"max_colwidth\", None)\n",
    "ee_miss"
   ]
  },
  {
   "cell_type": "code",
   "execution_count": null,
   "id": "4171cf3d",
   "metadata": {},
   "outputs": [],
   "source": [
    "ee_miss.loc[ee_miss['Description'].str.contains(r'\\bmiss\\B',na = False)]"
   ]
  },
  {
   "cell_type": "code",
   "execution_count": null,
   "id": "92391540",
   "metadata": {},
   "outputs": [],
   "source": [
    "total_misses = pd.concat([ee_miss, request])\n",
    "total_misses"
   ]
  },
  {
   "cell_type": "code",
   "execution_count": null,
   "id": "401be2f2",
   "metadata": {},
   "outputs": [],
   "source": [
    "total_misses['Description'] = total_misses['Description'].str.upper()"
   ]
  },
  {
   "cell_type": "code",
   "execution_count": null,
   "id": "2f4886e7",
   "metadata": {},
   "outputs": [],
   "source": [
    "total_misses['Description']"
   ]
  },
  {
   "cell_type": "code",
   "execution_count": null,
   "id": "bbe18c61",
   "metadata": {},
   "outputs": [],
   "source": [
    "total_misses['Zip Code'] = total_misses['Zip Code'].fillna(0)\n",
    "total_misses['Zip Code'] = total_misses['Zip Code'].astype(int)"
   ]
  },
  {
   "cell_type": "code",
   "execution_count": null,
   "id": "094633c3",
   "metadata": {},
   "outputs": [],
   "source": [
    "total_misses['Council District'] = total_misses['Council District'].fillna(0)\n",
    "total_misses['Council District'] = total_misses['Council District'].astype(int)"
   ]
  },
  {
   "cell_type": "code",
   "execution_count": null,
   "id": "51f056f8",
   "metadata": {},
   "outputs": [],
   "source": [
    "total_misses"
   ]
  },
  {
   "cell_type": "code",
   "execution_count": null,
   "id": "6edef729",
   "metadata": {},
   "outputs": [],
   "source": [
    "total_misses['Zip Code'].value_counts()"
   ]
  },
  {
   "cell_type": "code",
   "execution_count": null,
   "id": "be9131e5",
   "metadata": {},
   "outputs": [],
   "source": [
    "total_misses['Incident Address'] = total_misses['Incident Address'].str.strip()\n"
   ]
  },
  {
   "cell_type": "code",
   "execution_count": null,
   "id": "1a269206",
   "metadata": {},
   "outputs": [],
   "source": [
    "total_misses['Incident Address'] = total_misses['Incident Address'].str.lower()\n",
    "total_misses['Incident Address'] = total_misses['Incident Address'].str.title()\n",
    "total_misses"
   ]
  },
  {
   "cell_type": "code",
   "execution_count": null,
   "id": "5f1d3ff1",
   "metadata": {},
   "outputs": [],
   "source": [
    "total_misses['Incident Address']  = total_misses['Incident Address'] .str.replace(r'\\bSt\\b', 'Street', regex=True)\n",
    "total_misses['Incident Address']  = total_misses['Incident Address'] .str.replace(r'\\bAve\\b', 'Avenue', regex=True)\n",
    "total_misses['Incident Address']  = total_misses['Incident Address'] .str.replace(r'\\bDr\\b', 'Drive', regex=True)\n",
    "total_misses"
   ]
  },
  {
   "cell_type": "code",
   "execution_count": null,
   "id": "6bb67f1e",
   "metadata": {},
   "outputs": [],
   "source": [
    "total_misses['Incident Address'].fillna('Unknown', inplace=True) \n"
   ]
  },
  {
   "cell_type": "code",
   "execution_count": null,
   "id": "0b35984f",
   "metadata": {},
   "outputs": [],
   "source": [
    "total_misses.dropna(how='all')"
   ]
  },
  {
   "cell_type": "code",
   "execution_count": null,
   "id": "5caa9e7d",
   "metadata": {},
   "outputs": [],
   "source": [
    "total_misses['Trash Hauler'] = total_misses['Trash Hauler'].str.lower()\n",
    "total_misses['Trash Hauler'] = total_misses['Trash Hauler'].str.title()\n",
    "total_misses"
   ]
  },
  {
   "cell_type": "code",
   "execution_count": null,
   "id": "872b4a22",
   "metadata": {},
   "outputs": [],
   "source": [
    "remove = 'Nashville Tn'\n",
    "total_misses['Incident Address'] = total_misses['Incident Address'].str.replace(remove, \" \")\n"
   ]
  },
  {
   "cell_type": "code",
   "execution_count": null,
   "id": "7eb5917c",
   "metadata": {},
   "outputs": [],
   "source": [
    "total_misses['Incident Address'] = total_misses['Incident Address'].str.split(',', expand = True)[0]"
   ]
  },
  {
   "cell_type": "code",
   "execution_count": null,
   "id": "9f884619",
   "metadata": {},
   "outputs": [],
   "source": [
    "total_misses.drop_duplicates()"
   ]
  },
  {
   "cell_type": "code",
   "execution_count": null,
   "id": "01a8ab89",
   "metadata": {},
   "outputs": [],
   "source": [
    "total_misses['Date Opened'] = pd.to_datetime(total_misses['Date Opened'])\n",
    "total_misses"
   ]
  },
  {
   "cell_type": "code",
   "execution_count": null,
   "id": "eb5e3020",
   "metadata": {},
   "outputs": [],
   "source": [
    "total_misses['Date Opened'].value_counts()"
   ]
  },
  {
   "cell_type": "code",
   "execution_count": null,
   "id": "d493c0bb-5874-4cdc-89b8-7205b9c7a724",
   "metadata": {},
   "outputs": [],
   "source": [
    "#* What other types of complaints are there?"
   ]
  },
  {
   "cell_type": "code",
   "execution_count": null,
   "id": "f6370da6",
   "metadata": {},
   "outputs": [],
   "source": [
    "trash['Request '].value_counts()"
   ]
  },
  {
   "cell_type": "code",
   "execution_count": null,
   "id": "680238e8",
   "metadata": {},
   "outputs": [],
   "source": [
    "address_count = total_misses['Incident Address'].value_counts()\n"
   ]
  },
  {
   "cell_type": "code",
   "execution_count": null,
   "id": "f02b18db-c358-4d54-b1de-507476c1857c",
   "metadata": {},
   "outputs": [],
   "source": [
    "total_misses = total_misses.reset_index( drop = True)"
   ]
  },
  {
   "cell_type": "code",
   "execution_count": null,
   "id": "ec8b32b1-e055-45a2-80dc-782e5d725bc7",
   "metadata": {},
   "outputs": [],
   "source": [
    "total_misses = total_misses.sort_values('Date Opened')\n"
   ]
  },
  {
   "cell_type": "code",
   "execution_count": null,
   "id": "9e0bb1ce-c9dd-4a81-8477-7579be342b04",
   "metadata": {},
   "outputs": [],
   "source": [
    "total_misses"
   ]
  },
  {
   "cell_type": "code",
   "execution_count": null,
   "id": "a56cd195-9d26-4646-b21c-4fecf608d9f9",
   "metadata": {},
   "outputs": [],
   "source": [
    "total_misses.value_counts('Incident Address')"
   ]
  },
  {
   "cell_type": "code",
   "execution_count": null,
   "id": "d29a2b45-aad3-417b-b00d-9c2c88b0a84a",
   "metadata": {},
   "outputs": [],
   "source": [
    "tm = total_misses.groupby('Incident Address').rolling('182D', on = 'Date Opened').count('Request Number')\n"
   ]
  },
  {
   "cell_type": "code",
   "execution_count": null,
   "id": "1468caa5-8948-4d0f-9d1a-0c1ae44ae255",
   "metadata": {},
   "outputs": [],
   "source": [
    "tm2 = tm.loc[tm['Request Number'] >= 3].reset_index()\n",
    "tm2"
   ]
  },
  {
   "cell_type": "code",
   "execution_count": null,
   "id": "10faf33c-a022-4c86-9db1-06cc443d51dc",
   "metadata": {},
   "outputs": [],
   "source": [
    "tm2.value_counts('Incident Address')"
   ]
  },
  {
   "cell_type": "code",
   "execution_count": null,
   "id": "bf1fc955-e7f8-4449-ab6f-2d17919315f8",
   "metadata": {},
   "outputs": [],
   "source": [
    "tm2 = tm2.drop(columns = ['Council District','State Plan X', 'State Plan Y', 'Zip Code'])\n"
   ]
  },
  {
   "cell_type": "code",
   "execution_count": null,
   "id": "f65d433e-9973-44a4-86dc-a1a92ecefcf1",
   "metadata": {},
   "outputs": [],
   "source": [
    "tm3 = tm2.merge(total_misses[['Incident Address', 'Zip Code','Trash Hauler','Trash Route']], on='Incident Address', how='left')"
   ]
  },
  {
   "cell_type": "code",
   "execution_count": null,
   "id": "01c090ee-648f-4d03-82fa-b36dea193eeb",
   "metadata": {},
   "outputs": [],
   "source": [
    "tm3.drop_duplicates()"
   ]
  },
  {
   "cell_type": "code",
   "execution_count": null,
   "id": "a4909ef0-cd4a-4dca-acb0-87fad52792fa",
   "metadata": {},
   "outputs": [],
   "source": [
    "tm3 ['fine'] = (tm3['Request Number'] - 2) * 1500"
   ]
  },
  {
   "cell_type": "code",
   "execution_count": null,
   "id": "0d938dcf-1c0f-4a78-a773-2a9c25320463",
   "metadata": {},
   "outputs": [],
   "source": [
    "tm4 = tm3.drop_duplicates(['Incident Address','Date Opened']).groupby('Incident Address')['fine'].sum()"
   ]
  },
  {
   "cell_type": "code",
   "execution_count": null,
   "id": "a69efa9e-e634-4f46-a73f-7d621f202336",
   "metadata": {},
   "outputs": [],
   "source": [
    "tm4.sum()"
   ]
  },
  {
   "cell_type": "code",
   "execution_count": null,
   "id": "45da1957-55df-42c8-bc83-ffb9185589a1",
   "metadata": {},
   "outputs": [],
   "source": [
    "#* Make a heat map that shows the most total missed pick ups and another that shows the total fines, each by zip code."
   ]
  },
  {
   "cell_type": "code",
   "execution_count": null,
   "id": "f723fdeb-ea84-4b9f-977a-a0165936838e",
   "metadata": {},
   "outputs": [],
   "source": [
    "zipcodes = gpd.read_file('../geospatial-SarahLightner/data/zipcodes.geojson')"
   ]
  },
  {
   "cell_type": "code",
   "execution_count": null,
   "id": "33e4a969-a94a-4652-a09b-bdbd2906e3cb",
   "metadata": {},
   "outputs": [],
   "source": [
    "zipcodes.dtypes"
   ]
  },
  {
   "cell_type": "code",
   "execution_count": null,
   "id": "9ca99bc5-cbcd-45ce-a4f0-8e9d4fceae08",
   "metadata": {},
   "outputs": [],
   "source": [
    "joined_gdf = gpd.sjoin(tm4, zipcodes, how=\"inner\", op=\"intersects\")"
   ]
  },
  {
   "cell_type": "code",
   "execution_count": null,
   "id": "2afc5ae2-1a6d-4ae0-87b4-3f5d2796c050",
   "metadata": {},
   "outputs": [],
   "source": []
  }
 ],
 "metadata": {
  "kernelspec": {
   "display_name": "Python 3 (ipykernel)",
   "language": "python",
   "name": "python3"
  },
  "language_info": {
   "codemirror_mode": {
    "name": "ipython",
    "version": 3
   },
   "file_extension": ".py",
   "mimetype": "text/x-python",
   "name": "python",
   "nbconvert_exporter": "python",
   "pygments_lexer": "ipython3",
   "version": "3.10.13"
  }
 },
 "nbformat": 4,
 "nbformat_minor": 5
}
